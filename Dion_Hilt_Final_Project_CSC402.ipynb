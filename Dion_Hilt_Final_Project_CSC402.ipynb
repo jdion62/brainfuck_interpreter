{
 "metadata": {
  "language_info": {
   "codemirror_mode": {
    "name": "ipython",
    "version": 3
   },
   "file_extension": ".py",
   "mimetype": "text/x-python",
   "name": "python",
   "nbconvert_exporter": "python",
   "pygments_lexer": "ipython3",
   "version": "3.8.6-final"
  },
  "orig_nbformat": 2,
  "kernelspec": {
   "name": "python3",
   "display_name": "Python 3",
   "language": "python"
  }
 },
 "nbformat": 4,
 "nbformat_minor": 2,
 "cells": [
  {
   "source": [
    "Introduction: We chose Brainfuck as our language of choice to implement. Brainfuck firmly falls into the \"esoteric language\" camp, given that it is essentially a tape machine simulator that supports only 8 operations. The programmer has at least 30000 \"cells\" of tape, which, by convention, are generally taken to hold one byte each. The language supports instructions to move the current data cell, increment and decrement the value in the current cell, accept a byte of input or output, and two instructions that form a loop that functions roughly analagously to a while loop. There are almost no practical uses for this language, and the only thing people should use it for is to prove how much more masochistic than their friends or colleagues they are."
   ],
   "cell_type": "markdown",
   "metadata": {}
  },
  {
   "source": [
    "Our implementation for this project was rather simple. We created an AST using yacc to parse our input, although in hindsight, given the simplicity of the language, this was unneccessary and possibly detrimental. After that, it was a simple matter of implementing the instructions, with a pretty much 1-to-1 correspondence. We represented our memory block as a list, with 30000 items. We chose to not implement a limitless tape, and also cause an error on an under- or overflow. "
   ],
   "cell_type": "markdown",
   "metadata": {}
  },
  {
   "source": [
    "This algorithm accepts input, up until whitespace is given, and then prints it in reverse order. It should be noted that the reason that we accept input one at a time is because that is how Brainfuck is set up to accept it, and there is no specification that it read in from a longer input (such as giving an argument on stdin) This would definitely be an area our interpreter could improve on."
   ],
   "cell_type": "markdown",
   "metadata": {}
  },
  {
   "cell_type": "code",
   "execution_count": 2,
   "metadata": {},
   "outputs": [
    {
     "output_type": "stream",
     "name": "stdout",
     "text": [
      "bg"
     ]
    }
   ],
   "source": [
    "from BrainFuckParser import parser\n",
    "from BrainFuckState import state\n",
    "from BrainFuckLex import lexer\n",
    "from grammar_stuff import dump_AST\n",
    "from BrainFuckInterpret import walk\n",
    "state.initialize()\n",
    "parser.parse(\">,[>,]<[.<]\", lexer = lexer)\n",
    "walk(state.AST)"
   ]
  },
  {
   "source": [
    "This next algorithm is also rather simple. What it does is initialize the first and second cells in memory to 3 and 2 respectively, then \"moves\" the value in cell 1 (so memory[1] in our representation, we keep the 0th cell initialized to 0 for looping purposes) over to cell 2, 1 at a time."
   ],
   "cell_type": "markdown",
   "metadata": {}
  },
  {
   "cell_type": "code",
   "execution_count": 8,
   "metadata": {},
   "outputs": [
    {
     "output_type": "stream",
     "name": "stdout",
     "text": [
      "231405"
     ]
    }
   ],
   "source": [
    "from BrainFuckParser import parser\n",
    "from BrainFuckState import state\n",
    "from BrainFuckLex import lexer\n",
    "from grammar_stuff import dump_AST\n",
    "from BrainFuckInterpret import walk\n",
    "state.initialize()\n",
    "parser.parse(\">+++>++<[-.>+.<]\", lexer = lexer)\n",
    "walk(state.AST)"
   ]
  },
  {
   "source": [
    "And finally, we'll do \"Hello world!,\" the final emblem of why no one takes this language seriously, or uses it as anything more than a masochistic exercise."
   ],
   "cell_type": "markdown",
   "metadata": {}
  },
  {
   "cell_type": "code",
   "execution_count": 8,
   "metadata": {},
   "outputs": [
    {
     "output_type": "stream",
     "name": "stdout",
     "text": [
      "Hello World!"
     ]
    }
   ],
   "source": [
    "from BrainFuckParser import parser\n",
    "from BrainFuckState import state\n",
    "from BrainFuckLex import lexer\n",
    "from grammar_stuff import dump_AST\n",
    "from BrainFuckInterpret import walk\n",
    "state.initialize()\n",
    "parser.parse(\"++++++++++++++++++++++++++++++++++++++++++++++++++++++++++++++++++++++++.>+++++++++++++++++++++++++++++++++++++++++++++++++++++++++++++++++++++++++++++++++++++++++++++++++++++.>++++++++++++++++++++++++++++++++++++++++++++++++++++++++++++++++++++++++++++++++++++++++++++++++++++++++++++.>++++++++++++++++++++++++++++++++++++++++++++++++++++++++++++++++++++++++++++++++++++++++++++++++++++++++++++.>+++++++++++++++++++++++++++++++++++++++++++++++++++++++++++++++++++++++++++++++++++++++++++++++++++++++++++++++.>++++++++++++++++++++++++++++++++.>+++++++++++++++++++++++++++++++++++++++++++++++++++++++++++++++++++++++++++++++++++++++.>+++++++++++++++++++++++++++++++++++++++++++++++++++++++++++++++++++++++++++++++++++++++++++++++++++++++++++++++.>++++++++++++++++++++++++++++++++++++++++++++++++++++++++++++++++++++++++++++++++++++++++++++++++++++++++++++++++++.>++++++++++++++++++++++++++++++++++++++++++++++++++++++++++++++++++++++++++++++++++++++++++++++++++++++++++++.>++++++++++++++++++++++++++++++++++++++++++++++++++++++++++++++++++++++++++++++++++++++++++++++++++++.>+++++++++++++++++++++++++++++++++.>\", lexer = lexer)\n",
    "walk(state.AST)"
   ]
  },
  {
   "source": [
    "Challenges: We ran into some challenges during implementation of our project. Some minor one come to mind immediately but many of the smaller issues were resolved by us looking at our work over the semester or looking at some code examples Professor Hamel made available to us. Some of the bigger issues that took some thinking happened, many revolving around the input function that the Brainfuck language has. Our first issue was that it would skip input completely and that was as simple as us calling for input incorrectly. After that, we realized that our input logic did not work with our loop logic. We fixed this by doing a little bit of input management, made sure we knew what we were getting and what it meant, and finding out how to terminate the loop and doing so when we get whitespace (space, tab, newline). Another issue we had included the quite entertaining fact that some of the characters used in the Brainfuck lexicon are also used in regular expressions and we spent a good while forgetting that we had to escape some. If we were to go back, I know that I would attack the input a little differently and reconsider our usage of AST."
   ],
   "cell_type": "markdown",
   "metadata": {}
  },
  {
   "source": [
    "Conclusion: While the Brasinfuck language proved harder than we initially thought it would to construct, it was ultimately still well within our abilities to implement. We believe we did a fairly good job with this project and enjoyed playing with our final result as a way of showing what our work amounted to."
   ],
   "cell_type": "markdown",
   "metadata": {}
  }
 ]
}